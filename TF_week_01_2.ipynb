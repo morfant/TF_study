{
  "nbformat": 4,
  "nbformat_minor": 0,
  "metadata": {
    "colab": {
      "name": "TF_week_01_2.ipynb",
      "provenance": [],
      "collapsed_sections": [],
      "authorship_tag": "ABX9TyOoWw+z5preHvBndzVRma9n",
      "include_colab_link": true
    },
    "kernelspec": {
      "name": "python3",
      "display_name": "Python 3"
    }
  },
  "cells": [
    {
      "cell_type": "markdown",
      "metadata": {
        "id": "view-in-github",
        "colab_type": "text"
      },
      "source": [
        "<a href=\"https://colab.research.google.com/github/morfant/TF_study/blob/master/TF_week_01_2.ipynb\" target=\"_parent\"><img src=\"https://colab.research.google.com/assets/colab-badge.svg\" alt=\"Open In Colab\"/></a>"
      ]
    },
    {
      "cell_type": "code",
      "metadata": {
        "id": "9OIA8Ko25W5P",
        "colab_type": "code",
        "colab": {
          "base_uri": "https://localhost:8080/",
          "height": 104
        },
        "outputId": "bf371072-42e4-4962-97b7-96da56073fc3"
      },
      "source": [
        "import numpy as np\n",
        "import tensorflow as tf\n",
        "!pip install -q tensorflow-hub\n",
        "!pip install -q tfds-nightly\n",
        "import tensorflow_hub as hub\n",
        "import tensorflow_datasets as tfds\n",
        "\n",
        "print('버전: ', tf.__version__)\n",
        "print('즉시 실행 모드: ', tf.executing_eagerly())\n",
        "print('허브 버전: ', hub.__version__)\n",
        "print('GPU ', '사용 가능' if tf.config.experimental.list_physical_devices(\"GPU\") else '사용 불가능')\n"
      ],
      "execution_count": 6,
      "outputs": [
        {
          "output_type": "stream",
          "text": [
            "\u001b[K     |████████████████████████████████| 3.3MB 2.9MB/s \n",
            "\u001b[?25h버전:  2.2.0-rc2\n",
            "즉시 실행 모드:  True\n",
            "허브 버전:  0.8.0\n",
            "GPU  사용 불가능\n"
          ],
          "name": "stdout"
        }
      ]
    },
    {
      "cell_type": "code",
      "metadata": {
        "id": "t6Qza0-h6gfh",
        "colab_type": "code",
        "colab": {}
      },
      "source": [
        "\n",
        "train_data, validation_data, test_data = tfds.load(\n",
        "    name=\"imdb_reviews\", \n",
        "    split=('train[:60%]',  'train[60%:]', 'test'),\n",
        "    as_supervised=True)\n"
      ],
      "execution_count": 0,
      "outputs": []
    },
    {
      "cell_type": "code",
      "metadata": {
        "id": "bGB7puNz91vk",
        "colab_type": "code",
        "colab": {
          "base_uri": "https://localhost:8080/",
          "height": 34
        },
        "outputId": "fe50fc09-5f70-4e89-cef6-add08438d840"
      },
      "source": [
        "train_example_batch, train_labels_batch = next(iter(train_data.batch(10)))\n",
        "train_example_batch\n",
        "train_labels_batch"
      ],
      "execution_count": 12,
      "outputs": [
        {
          "output_type": "execute_result",
          "data": {
            "text/plain": [
              "<tf.Tensor: shape=(10,), dtype=int64, numpy=array([0, 0, 0, 1, 1, 1, 0, 0, 0, 0])>"
            ]
          },
          "metadata": {
            "tags": []
          },
          "execution_count": 12
        }
      ]
    },
    {
      "cell_type": "code",
      "metadata": {
        "id": "RCizEAapAmcU",
        "colab_type": "code",
        "colab": {
          "base_uri": "https://localhost:8080/",
          "height": 260
        },
        "outputId": "84f030dc-f456-4ea0-f8c5-e29ec805a7e1"
      },
      "source": [
        "embedding = \"https://tfhub.dev/google/tf2-preview/gnews-swivel-20dim/1\"\n",
        "hub_layer = hub.KerasLayer(embedding, input_shape=[], dtype=tf.string, trainable=True)\n",
        "hub_layer(train_example_batch[:3])"
      ],
      "execution_count": 14,
      "outputs": [
        {
          "output_type": "execute_result",
          "data": {
            "text/plain": [
              "<tf.Tensor: shape=(3, 20), dtype=float32, numpy=\n",
              "array([[ 1.765786  , -3.882232  ,  3.9134233 , -1.5557289 , -3.3362343 ,\n",
              "        -1.7357955 , -1.9954445 ,  1.2989551 ,  5.081598  , -1.1041286 ,\n",
              "        -2.0503852 , -0.72675157, -0.65675956,  0.24436149, -3.7208383 ,\n",
              "         2.0954835 ,  2.2969332 , -2.0689783 , -2.9489717 , -1.1315987 ],\n",
              "       [ 1.8804485 , -2.5852382 ,  3.4066997 ,  1.0982676 , -4.056685  ,\n",
              "        -4.891284  , -2.785554  ,  1.3874227 ,  3.8476458 , -0.9256538 ,\n",
              "        -1.896706  ,  1.2113281 ,  0.11474707,  0.76209456, -4.8791065 ,\n",
              "         2.906149  ,  4.7087674 , -2.3652055 , -3.5015898 , -1.6390051 ],\n",
              "       [ 0.71152234, -0.6353217 ,  1.7385626 , -1.1168286 , -0.5451594 ,\n",
              "        -1.1808156 ,  0.09504455,  1.4653089 ,  0.66059524,  0.79308075,\n",
              "        -2.2268345 ,  0.07446612, -1.4075904 , -0.70645386, -1.907037  ,\n",
              "         1.4419787 ,  1.9551861 , -0.42660055, -2.8022065 ,  0.43727064]],\n",
              "      dtype=float32)>"
            ]
          },
          "metadata": {
            "tags": []
          },
          "execution_count": 14
        }
      ]
    },
    {
      "cell_type": "code",
      "metadata": {
        "id": "YJyRyXxfBsN-",
        "colab_type": "code",
        "colab": {
          "base_uri": "https://localhost:8080/",
          "height": 260
        },
        "outputId": "bc7c2f3f-e06b-4b1d-bf26-43ddd5764965"
      },
      "source": [
        "model = tf.keras.Sequential()\n",
        "model.add(hub_layer)\n",
        "model.add(tf.keras.layers.Dense(16, activation='relu'))\n",
        "model.add(tf.keras.layers.Dense(1))\n",
        "\n",
        "model.summary()"
      ],
      "execution_count": 15,
      "outputs": [
        {
          "output_type": "stream",
          "text": [
            "Model: \"sequential\"\n",
            "_________________________________________________________________\n",
            "Layer (type)                 Output Shape              Param #   \n",
            "=================================================================\n",
            "keras_layer_1 (KerasLayer)   (None, 20)                400020    \n",
            "_________________________________________________________________\n",
            "dense (Dense)                (None, 16)                336       \n",
            "_________________________________________________________________\n",
            "dense_1 (Dense)              (None, 1)                 17        \n",
            "=================================================================\n",
            "Total params: 400,373\n",
            "Trainable params: 400,373\n",
            "Non-trainable params: 0\n",
            "_________________________________________________________________\n"
          ],
          "name": "stdout"
        }
      ]
    },
    {
      "cell_type": "code",
      "metadata": {
        "id": "8WRgeGQLCe-U",
        "colab_type": "code",
        "colab": {}
      },
      "source": [
        "model.compile(optimizer='adam',\n",
        "              loss=tf.keras.losses.BinaryCrossentropy(from_logits=True),\n",
        "              metrics=['accuracy'])"
      ],
      "execution_count": 0,
      "outputs": []
    },
    {
      "cell_type": "code",
      "metadata": {
        "id": "iTvVGZZTDKb4",
        "colab_type": "code",
        "colab": {
          "base_uri": "https://localhost:8080/",
          "height": 712
        },
        "outputId": "883dfa81-3b2b-479b-f0ee-6d753d807327"
      },
      "source": [
        "history = model.fit(train_data.shuffle(10000).batch(512),\n",
        "                    epochs=20,\n",
        "                    validation_data=validation_data.batch(512),\n",
        "                    verbose=1)"
      ],
      "execution_count": 17,
      "outputs": [
        {
          "output_type": "stream",
          "text": [
            "Epoch 1/20\n",
            "30/30 [==============================] - 3s 108ms/step - loss: 0.7420 - accuracy: 0.5176 - val_loss: 0.6877 - val_accuracy: 0.5606\n",
            "Epoch 2/20\n",
            "30/30 [==============================] - 3s 99ms/step - loss: 0.6446 - accuracy: 0.5994 - val_loss: 0.6252 - val_accuracy: 0.6212\n",
            "Epoch 3/20\n",
            "30/30 [==============================] - 3s 101ms/step - loss: 0.5924 - accuracy: 0.6517 - val_loss: 0.5834 - val_accuracy: 0.6586\n",
            "Epoch 4/20\n",
            "30/30 [==============================] - 3s 101ms/step - loss: 0.5518 - accuracy: 0.6938 - val_loss: 0.5465 - val_accuracy: 0.7067\n",
            "Epoch 5/20\n",
            "30/30 [==============================] - 3s 101ms/step - loss: 0.5119 - accuracy: 0.7299 - val_loss: 0.5124 - val_accuracy: 0.7211\n",
            "Epoch 6/20\n",
            "30/30 [==============================] - 3s 103ms/step - loss: 0.4757 - accuracy: 0.7566 - val_loss: 0.4786 - val_accuracy: 0.7646\n",
            "Epoch 7/20\n",
            "30/30 [==============================] - 3s 102ms/step - loss: 0.4376 - accuracy: 0.7917 - val_loss: 0.4480 - val_accuracy: 0.7860\n",
            "Epoch 8/20\n",
            "30/30 [==============================] - 3s 101ms/step - loss: 0.4018 - accuracy: 0.8153 - val_loss: 0.4204 - val_accuracy: 0.7986\n",
            "Epoch 9/20\n",
            "30/30 [==============================] - 3s 100ms/step - loss: 0.3696 - accuracy: 0.8357 - val_loss: 0.4000 - val_accuracy: 0.8015\n",
            "Epoch 10/20\n",
            "30/30 [==============================] - 3s 100ms/step - loss: 0.3420 - accuracy: 0.8519 - val_loss: 0.3792 - val_accuracy: 0.8228\n",
            "Epoch 11/20\n",
            "30/30 [==============================] - 3s 103ms/step - loss: 0.3175 - accuracy: 0.8653 - val_loss: 0.3643 - val_accuracy: 0.8296\n",
            "Epoch 12/20\n",
            "30/30 [==============================] - 3s 100ms/step - loss: 0.2937 - accuracy: 0.8774 - val_loss: 0.3520 - val_accuracy: 0.8399\n",
            "Epoch 13/20\n",
            "30/30 [==============================] - 3s 101ms/step - loss: 0.2760 - accuracy: 0.8871 - val_loss: 0.3419 - val_accuracy: 0.8418\n",
            "Epoch 14/20\n",
            "30/30 [==============================] - 3s 100ms/step - loss: 0.2589 - accuracy: 0.8963 - val_loss: 0.3338 - val_accuracy: 0.8486\n",
            "Epoch 15/20\n",
            "30/30 [==============================] - 3s 98ms/step - loss: 0.2420 - accuracy: 0.9031 - val_loss: 0.3296 - val_accuracy: 0.8482\n",
            "Epoch 16/20\n",
            "30/30 [==============================] - 3s 102ms/step - loss: 0.2286 - accuracy: 0.9093 - val_loss: 0.3225 - val_accuracy: 0.8528\n",
            "Epoch 17/20\n",
            "30/30 [==============================] - 3s 99ms/step - loss: 0.2147 - accuracy: 0.9159 - val_loss: 0.3184 - val_accuracy: 0.8558\n",
            "Epoch 18/20\n",
            "30/30 [==============================] - 3s 101ms/step - loss: 0.2020 - accuracy: 0.9217 - val_loss: 0.3141 - val_accuracy: 0.8594\n",
            "Epoch 19/20\n",
            "30/30 [==============================] - 3s 103ms/step - loss: 0.1895 - accuracy: 0.9269 - val_loss: 0.3114 - val_accuracy: 0.8635\n",
            "Epoch 20/20\n",
            "30/30 [==============================] - 3s 100ms/step - loss: 0.1781 - accuracy: 0.9319 - val_loss: 0.3097 - val_accuracy: 0.8665\n"
          ],
          "name": "stdout"
        }
      ]
    },
    {
      "cell_type": "code",
      "metadata": {
        "id": "tGsLozmoDrEW",
        "colab_type": "code",
        "colab": {
          "base_uri": "https://localhost:8080/",
          "height": 69
        },
        "outputId": "ce4b5ed3-a1e7-4ba5-af8d-9e21b5b8392d"
      },
      "source": [
        "results = model.evaluate(test_data.batch(512), verbose=2)\n",
        "\n",
        "for name, value in zip(model.metrics_names, results):\n",
        "  print(\"%s: %.3f\" % (name, value))"
      ],
      "execution_count": 20,
      "outputs": [
        {
          "output_type": "stream",
          "text": [
            "49/49 - 3s - loss: 0.3211 - accuracy: 0.8575\n",
            "loss: 0.321\n",
            "accuracy: 0.857\n"
          ],
          "name": "stdout"
        }
      ]
    }
  ]
}